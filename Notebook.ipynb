{
 "cells": [
  {
   "cell_type": "markdown",
   "metadata": {},
   "source": [
    "## Лабораторная работа 2 по дисциплине \"Машинное обучение\"\n",
    "\n",
    "Выбранный датасет позволяет предсказывать, выжил ли пассажир Титаника по различным параметрам(пол, возраст, класс и.т.д.)"
   ]
  },
  {
   "cell_type": "markdown",
   "metadata": {},
   "source": [
    "Для начала подключим библиотеки, загрузим датасет и выполним его подготовку, как в предыдущей работе."
   ]
  },
  {
   "cell_type": "code",
   "execution_count": 22,
   "metadata": {},
   "outputs": [],
   "source": [
    "import pandas as pd\n",
    "import numpy as np\n",
    "import seaborn as sns\n",
    "from sklearn.model_selection import *\n",
    "from sklearn.metrics import *\n",
    "from sklearn.neighbors import KNeighborsClassifier\n",
    "from sklearn.preprocessing import *\n",
    "from sklearn.naive_bayes import *\n",
    "from sklearn.linear_model import LogisticRegression\n",
    "from sklearn.tree import DecisionTreeClassifier\n",
    "import matplotlib.pyplot as plt\n",
    "from sklearn.svm import SVC\n"
   ]
  },
  {
   "cell_type": "code",
   "execution_count": 2,
   "metadata": {},
   "outputs": [],
   "source": [
    "def prepare_dataset(df):\n",
    "    df = df.drop_duplicates()\n",
    "    df = df[df[\"Embarked\"].notna()]\n",
    "    df = df.drop(labels=[\"Name\", \"Ticket\", \"Cabin\", \"PassengerId\"], axis=1)\n",
    "\n",
    "    OH_cols = pd.DataFrame(OneHotEncoder(handle_unknown=\"ignore\", sparse=False).fit_transform(df[[\"Embarked\"]]),\n",
    "                           columns=[\"Embarked_1\", \"Embarked_2\", \"Embarked_3\"])\n",
    "    OH_cols.index = df.index\n",
    "    df = pd.concat([df.drop(labels=[\"Embarked\"], axis=1), OH_cols], axis=1)\n",
    "\n",
    "    df[\"Sex\"] = LabelEncoder().fit_transform(df[\"Sex\"])\n",
    "    df[\"Age\"] = df[\"Age\"].fillna(df[\"Age\"].median())\n",
    "\n",
    "    scaler = StandardScaler()\n",
    "    X = pd.DataFrame(scaler.fit_transform(df.drop(\"Survived\", axis=1)))\n",
    "    y = df[\"Survived\"]\n",
    "    return X,y\n",
    "\n",
    "def df_info(df):\n",
    "    #корелляция\n",
    "    sns.heatmap(df.corr(), xticklabels=df.columns, yticklabels=df.columns)\n",
    "    plt.show()"
   ]
  },
  {
   "cell_type": "markdown",
   "metadata": {},
   "source": [
    "Заодно, распечатаем матрицу корреляции."
   ]
  },
  {
   "cell_type": "code",
   "execution_count": 4,
   "metadata": {},
   "outputs": [
    {
     "data": {
      "image/png": "[encoded data removed]",
      "text/plain": [
       "<Figure size 432x288 with 2 Axes>"
      ]
     },
     "metadata": {
      "needs_background": "light"
     },
     "output_type": "display_data"
    }
   ],
   "source": [
    "data_frame = pd.read_csv(\"https://raw.githubusercontent.com/ilya89099/ML1/master/titanic.csv\")\n",
    "df_info(data_frame)\n",
    "X,y = prepare_dataset(data_frame)\n",
    "X_train, X_test, y_train, y_test = train_test_split(X, y, test_size=0.2, random_state=0)"
   ]
  },
  {
   "cell_type": "markdown",
   "metadata": {},
   "source": [
    "Добавим полезных функций - функцию для всесторонней оценки качества предсказания, и сигмоиду, которая необходима для реализации логистической регрессии."
   ]
  },
  {
   "cell_type": "code",
   "execution_count": 6,
   "metadata": {},
   "outputs": [],
   "source": [
    "def score_prediction(y_pred, y_test):\n",
    "    print(\"confusion matrix:\\n\", confusion_matrix(y_test, y_pred))\n",
    "    print(\"accuracy:\", accuracy_score(y_test, y_pred))\n",
    "    print(\"precision:\", precision_score(y_test, y_pred))\n",
    "    print(\"recall:\", recall_score(y_test, y_pred))\n",
    "    print(\"f1_score\", f1_score(y_test, y_pred))\n",
    "    \n",
    "def sigmoid(z):\n",
    "    return 1 / (1 + np.exp(-z))"
   ]
  },
  {
   "cell_type": "markdown",
   "metadata": {},
   "source": [
    "Сам класс с реализацией Логистической регрессии."
   ]
  },
  {
   "cell_type": "code",
   "execution_count": 7,
   "metadata": {},
   "outputs": [],
   "source": [
    "class MyLogisticRegression:\n",
    "    def __init__(self, lr, max_iter = 10000):\n",
    "        self.max_iter = max_iter\n",
    "        self.lr = lr\n",
    "\n",
    "    def fit(self, X, y):\n",
    "        X = X.to_numpy()\n",
    "        y = y.to_numpy()\n",
    "        X = np.hstack((np.full((X.shape[0], 1), 1),X))\n",
    "        weights = np.random.rand(X.shape[1])\n",
    "        for i in range(self.max_iter):\n",
    "            old_weights = weights.copy()\n",
    "            weights -= self.lr * np.dot(X.T, sigmoid(np.dot(X, weights)) - y) / len(X)\n",
    "        self.weights = weights\n",
    "\n",
    "    def predict(self, X):\n",
    "        X = X.to_numpy()\n",
    "        X = np.hstack((np.full((X.shape[0], 1), 1), X))\n",
    "        labels = []\n",
    "        for row in X:\n",
    "            labels.append(int(sigmoid(np.dot(row, self.weights)) > 0.5))\n",
    "        return labels"
   ]
  },
  {
   "cell_type": "code",
   "execution_count": 9,
   "metadata": {},
   "outputs": [
    {
     "name": "stdout",
     "output_type": "stream",
     "text": [
      "Sklearn implementation accuracy 0.7134831460674157\n"
     ]
    }
   ],
   "source": [
    "model = LogisticRegression(max_iter=10000)\n",
    "model.fit(X_train,y_train)\n",
    "print(\"Sklearn implementation accuracy {}\".format(accuracy_score(model.predict(X_test), y_test)))\n"
   ]
  },
  {
   "cell_type": "code",
   "execution_count": 15,
   "metadata": {},
   "outputs": [
    {
     "name": "stdout",
     "output_type": "stream",
     "text": [
      "My implementation: max accuracy with learning rate = 0.1 and max iterations = 100\n",
      "confusion matrix:\n",
      " [[83 22]\n",
      " [28 45]]\n",
      "accuracy: 0.7191011235955056\n",
      "precision: 0.6716417910447762\n",
      "recall: 0.6164383561643836\n",
      "f1_score 0.6428571428571429\n"
     ]
    }
   ],
   "source": [
    "max_accuracy = 0\n",
    "max_params = (0,0)\n",
    "y_pred_max = 0\n",
    "for lr, max_iter in [(0.1, 100), (0.01, 100), (0.1, 1000), (0.01, 1000), (0.1, 10000), (0.01, 10000)]:\n",
    "    model = MyLogisticRegression(lr=lr, max_iter=max_iter)\n",
    "    model.fit(X_train,y_train)\n",
    "    y_pred = model.predict(X_test)\n",
    "    acc = accuracy_score(y_pred, y_test)\n",
    "    if acc > max_accuracy:\n",
    "        max_params = (lr, max_iter)\n",
    "        max_accuracy = acc\n",
    "        y_pred_max = y_pred\n",
    "print(\"My implementation: max accuracy with learning rate = {} and max iterations = {}\"\n",
    "      .format(*max_params))\n",
    "score_prediction(y_pred_max, y_test)"
   ]
  },
  {
   "cell_type": "markdown",
   "metadata": {},
   "source": [
    "Логистическая регрессия примечательна тем, что она позволяет получать вероятность принадлежности объекта к определенному классу. Логистическая регрессия обучается за счет нахождения максимума правдоподобия на обучающей выборке."
   ]
  },
  {
   "cell_type": "markdown",
   "metadata": {},
   "source": [
    "Теперь можно перейти к дереву решений"
   ]
  },
  {
   "cell_type": "code",
   "execution_count": 16,
   "metadata": {},
   "outputs": [],
   "source": [
    "class Node:\n",
    "    def __init__(self, predicted_class):\n",
    "        self.predicted_class = predicted_class\n",
    "        self.feature_index = 0\n",
    "        self.threshold = 0\n",
    "        self.left = None\n",
    "        self.right = None\n",
    "\n",
    "\n",
    "class MyDecisionTreeClassifier:\n",
    "    def __init__(self, max_depth=None):\n",
    "        self.max_depth = max_depth\n",
    "\n",
    "    def fit(self, X, y):\n",
    "        X = X.to_numpy()\n",
    "        y = y.to_numpy()\n",
    "        self.n_classes_ = len(set(y))\n",
    "        self.n_features_ = X.shape[1]\n",
    "        self.tree_ = self._grow_tree(X, y)\n",
    "\n",
    "    def predict(self, X):\n",
    "        X = X.to_numpy()\n",
    "        return [self._predict(inputs) for inputs in X]\n",
    "\n",
    "    def _best_split(self, X, y):\n",
    "        m = y.size\n",
    "        if m <= 1:\n",
    "            return None, None\n",
    "        num_parent = [np.sum(y == c) for c in range(self.n_classes_)]\n",
    "        best_gini = 1.0 - sum((n / m) ** 2 for n in num_parent)\n",
    "        best_idx, best_thr = None, None\n",
    "        for idx in range(self.n_features_):\n",
    "            thresholds, classes = zip(*sorted(zip(X[:, idx], y)))\n",
    "            num_left = [0] * self.n_classes_\n",
    "            num_right = num_parent.copy()\n",
    "            for i in range(1, m):\n",
    "                c = classes[i - 1]\n",
    "                num_left[c] += 1\n",
    "                num_right[c] -= 1\n",
    "                gini_left = 1.0 - sum(\n",
    "                    (num_left[x] / i) ** 2 for x in range(self.n_classes_)\n",
    "                )\n",
    "                gini_right = 1.0 - sum(\n",
    "                    (num_right[x] / (m - i)) ** 2 for x in range(self.n_classes_)\n",
    "                )\n",
    "                gini = (i * gini_left + (m - i) * gini_right) / m\n",
    "                if thresholds[i] == thresholds[i - 1]:\n",
    "                    continue\n",
    "                if gini < best_gini:\n",
    "                    best_gini = gini\n",
    "                    best_idx = idx\n",
    "                    best_thr = (thresholds[i] + thresholds[i - 1]) / 2\n",
    "        return best_idx, best_thr\n",
    "\n",
    "    def _grow_tree(self, X, y, depth=0):\n",
    "        num_samples_per_class = [np.sum(y == i) for i in range(self.n_classes_)]\n",
    "        predicted_class = np.argmax(num_samples_per_class)\n",
    "        node = Node(predicted_class=predicted_class)\n",
    "        if depth < self.max_depth:\n",
    "            idx, thr = self._best_split(X, y)\n",
    "            if idx is not None:\n",
    "                indices_left = X[:, idx] < thr\n",
    "                X_left, y_left = X[indices_left], y[indices_left]\n",
    "                X_right, y_right = X[~indices_left], y[~indices_left]\n",
    "                node.feature_index = idx\n",
    "                node.threshold = thr\n",
    "                node.left = self._grow_tree(X_left, y_left, depth + 1)\n",
    "                node.right = self._grow_tree(X_right, y_right, depth + 1)\n",
    "        return node\n",
    "\n",
    "    def _predict(self, inputs):\n",
    "        node = self.tree_\n",
    "        while node.left:\n",
    "            if inputs[node.feature_index] < node.threshold:\n",
    "                node = node.left\n",
    "            else:\n",
    "                node = node.right\n",
    "        return node.predicted_class"
   ]
  },
  {
   "cell_type": "code",
   "execution_count": 19,
   "metadata": {},
   "outputs": [
    {
     "name": "stdout",
     "output_type": "stream",
     "text": [
      "Sklearn decision tree accuracy 0.7471910112359551\n",
      "My implementation score:\n",
      "confusion matrix:\n",
      " [[86 19]\n",
      " [23 50]]\n",
      "accuracy: 0.7640449438202247\n",
      "precision: 0.7246376811594203\n",
      "recall: 0.684931506849315\n",
      "f1_score 0.704225352112676\n"
     ]
    }
   ],
   "source": [
    "model = DecisionTreeClassifier()\n",
    "model.fit(X_train, y_train)\n",
    "y_pred = model.predict(X_test)\n",
    "print(\"Sklearn decision tree accuracy {}\".format(accuracy_score(y_test, y_pred)))\n",
    "\n",
    "model = MyDecisionTreeClassifier(max_depth=10)\n",
    "model.fit(X_train, y_train)\n",
    "y_pred = model.predict(X_test)\n",
    "print(\"My implementation score:\")\n",
    "score_prediction(y_pred, y_test)"
   ]
  },
  {
   "cell_type": "markdown",
   "metadata": {},
   "source": [
    "Пришло время перейти к методу опорных векторов."
   ]
  },
  {
   "cell_type": "code",
   "execution_count": 21,
   "metadata": {},
   "outputs": [],
   "source": [
    "class MySVM:\n",
    "    def __init__(self, lr, lambda_, iters):\n",
    "        self.lr = lr\n",
    "        self.lambda_ = lambda_\n",
    "        self.iters = iters\n",
    "\n",
    "    def fit(self, X, y):\n",
    "        X = X.to_numpy()\n",
    "        y = y.to_numpy()\n",
    "        n = X.shape[0]\n",
    "        self.W = np.zeros(X.shape[1])\n",
    "        self.b = 0\n",
    "        y_ = np.where(y <= 0, -1, 1)\n",
    "\n",
    "        for i in range(self.iters):\n",
    "            for j, x in enumerate(X):\n",
    "                if y_[j] * ((x @ self.W) - self.b) >= 1:\n",
    "                    self.W -= self.lr * (2 * self.lambda_ * self.W)\n",
    "                else:\n",
    "                    self.W -= self.lr * (2 * self.lambda_ * self.W - np.dot(x,y_[j]))\n",
    "                    self.b -= self.lr * y_[j]\n",
    "\n",
    "    def predict(self, X):\n",
    "        X = X.to_numpy()\n",
    "        res = np.dot(X, self.W) - self.b\n",
    "        y_pred = np.where(res >= 0, 1, 0)\n",
    "        return y_pred"
   ]
  },
  {
   "cell_type": "code",
   "execution_count": 24,
   "metadata": {},
   "outputs": [
    {
     "name": "stdout",
     "output_type": "stream",
     "text": [
      "Sklearn SVM accuracy 0.7471910112359551\n"
     ]
    }
   ],
   "source": [
    "model = SVC()\n",
    "model.fit(X_train, y_train)\n",
    "print(\"Sklearn SVM accuracy {}\".format(accuracy_score(model.predict(X_test), y_test)))"
   ]
  },
  {
   "cell_type": "code",
   "execution_count": 27,
   "metadata": {},
   "outputs": [
    {
     "name": "stdout",
     "output_type": "stream",
     "text": [
      "Params with max accuracy lr = 0.01, lambda = 0.01, iters = 5000\n",
      "confusion matrix:\n",
      " [[85 20]\n",
      " [30 43]]\n",
      "accuracy: 0.7191011235955056\n",
      "precision: 0.6825396825396826\n",
      "recall: 0.589041095890411\n",
      "f1_score 0.6323529411764707\n"
     ]
    }
   ],
   "source": [
    "max_acc = 0\n",
    "max_params = (0,0,0)\n",
    "y_pred = 0\n",
    "for lr_lambda_iters in [(0.01, 0.01, 5000), (0.001, 0.01, 1000), (0.001, 0.01, 3000)]:\n",
    "    lr, lambda_, iters = lr_lambda_iters\n",
    "    model = MySVM(lr=lr, lambda_=lambda_, iters=iters)\n",
    "    model.fit(X_train, y_train)\n",
    "    y_pred_cur = model.predict(X_test)\n",
    "    acc = accuracy_score(y_pred_cur, y_test)\n",
    "    if acc > max_acc:\n",
    "        max_acc = acc\n",
    "        y_pred = y_pred_cur\n",
    "        max_params = lr_lambda_iters\n",
    "print(\"Params with max accuracy lr = {}, lambda = {}, iters = {}\".format(*max_params))\n",
    "score_prediction(y_pred, y_test)\n"
   ]
  }
 ],
 "metadata": {
  "kernelspec": {
   "display_name": "Python 3",
   "language": "python",
   "name": "python3"
  },
  "language_info": {
   "codemirror_mode": {
    "name": "ipython",
    "version": 3
   },
   "file_extension": ".py",
   "mimetype": "text/x-python",
   "name": "python",
   "nbconvert_exporter": "python",
   "pygments_lexer": "ipython3",
   "version": "3.8.3"
  }
 },
 "nbformat": 4,
 "nbformat_minor": 4
}
